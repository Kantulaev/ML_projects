{
 "cells": [
  {
   "cell_type": "code",
   "execution_count": 2,
   "metadata": {},
   "outputs": [],
   "source": [
    "import sympy as sym\n",
    "from IPython.display import Math,display\n",
    "import numpy as np\n",
    "\n",
    "sym.init_printing()"
   ]
  },
  {
   "cell_type": "code",
   "execution_count": 2,
   "metadata": {},
   "outputs": [
    {
     "data": {
      "image/png": "[encoded data removed]",
      "text/latex": [
       "$\\displaystyle \\left[ 0\\right]$"
      ],
      "text/plain": [
       "[0]"
      ]
     },
     "execution_count": 2,
     "metadata": {},
     "output_type": "execute_result"
    }
   ],
   "source": [
    "x = sym.symbols('x')\n",
    "sym.solve(4*x)"
   ]
  },
  {
   "cell_type": "code",
   "execution_count": 3,
   "metadata": {},
   "outputs": [
    {
     "data": {
      "image/png": "[encoded data removed]",
      "text/latex": [
       "$\\displaystyle \\left[ \\frac{1}{2} - \\frac{\\sqrt{7}}{2}, \\  \\frac{1}{2} + \\frac{\\sqrt{7}}{2}\\right]$"
      ],
      "text/plain": [
       "⎡1   √7  1   √7⎤\n",
       "⎢─ - ──, ─ + ──⎥\n",
       "⎣2   2   2   2 ⎦"
      ]
     },
     "execution_count": 3,
     "metadata": {},
     "output_type": "execute_result"
    }
   ],
   "source": [
    "q = sym.symbols('q')\n",
    "expr1 = 3*q + 4/q + 3\n",
    "expr2 = 5*q + 1/q + 1\n",
    "sym.solve(sym.Eq(sym.simplify(expr1), sym.simplify(expr2)))\n",
    "sym.solve(expr1 - expr2)\n"
   ]
  },
  {
   "cell_type": "code",
   "execution_count": 6,
   "metadata": {},
   "outputs": [
    {
     "data": {
      "image/png": "[encoded data removed]",
      "text/latex": [
       "$\\displaystyle \\left[ \\operatorname{CRootOf} {\\left(3 x^{5} + 2 x^{4} - 5 x^{2} - 4, 0\\right)}, \\  \\operatorname{CRootOf} {\\left(3 x^{5} + 2 x^{4} - 5 x^{2} - 4, 1\\right)}, \\  \\operatorname{CRootOf} {\\left(3 x^{5} + 2 x^{4} - 5 x^{2} - 4, 2\\right)}, \\  \\operatorname{CRootOf} {\\left(3 x^{5} + 2 x^{4} - 5 x^{2} - 4, 3\\right)}, \\  \\operatorname{CRootOf} {\\left(3 x^{5} + 2 x^{4} - 5 x^{2} - 4, 4\\right)}\\right]$"
      ],
      "text/plain": [
       "⎡       ⎛   5      4      2       ⎞         ⎛   5      4      2       ⎞       \n",
       "⎣CRootOf⎝3⋅x  + 2⋅x  - 5⋅x  - 4, 0⎠, CRootOf⎝3⋅x  + 2⋅x  - 5⋅x  - 4, 1⎠, CRoot\n",
       "\n",
       "  ⎛   5      4      2       ⎞         ⎛   5      4      2       ⎞         ⎛   \n",
       "Of⎝3⋅x  + 2⋅x  - 5⋅x  - 4, 2⎠, CRootOf⎝3⋅x  + 2⋅x  - 5⋅x  - 4, 3⎠, CRootOf⎝3⋅x\n",
       "\n",
       "5      4      2       ⎞⎤\n",
       "  + 2⋅x  - 5⋅x  - 4, 4⎠⎦"
      ]
     },
     "execution_count": 6,
     "metadata": {},
     "output_type": "execute_result"
    }
   ],
   "source": [
    "expr3 = 2*q + 3*q**2 - 5/q-4/q**3\n",
    "# sym.simplify(expr3)\n",
    "# sym.cancel(expr3)\n",
    "# expr3\n",
    "sym.solve(expr3)"
   ]
  },
  {
   "cell_type": "code",
   "execution_count": 5,
   "metadata": {},
   "outputs": [
    {
     "data": {
      "image/png": "[encoded data removed]",
      "text/latex": [
       "$\\displaystyle 1.22474487139159$"
      ],
      "text/plain": [
       "1.22474487139159"
      ]
     },
     "execution_count": 5,
     "metadata": {},
     "output_type": "execute_result"
    }
   ],
   "source": [
    "expr4 = (sym.sqrt(3) + sym.sqrt(15)*q) / (sym.sqrt(2) + sym.sqrt(10)*q) \n",
    "expr4.subs(q,20).evalf()"
   ]
  },
  {
   "cell_type": "code",
   "execution_count": 10,
   "metadata": {},
   "outputs": [
    {
     "name": "stdout",
     "output_type": "stream",
     "text": [
      "When x=0 and y=0, f(x,y)=8\n",
      "When x=0 and y=1, f(x,y)=4\n",
      "When x=0 and y=2, f(x,y)=0\n",
      "When x=1 and y=0, f(x,y)=10\n",
      "When x=1 and y=1, f(x,y)=5\n",
      "When x=1 and y=2, f(x,y)=0\n",
      "When x=2 and y=0, f(x,y)=12\n",
      "When x=2 and y=1, f(x,y)=6\n",
      "When x=2 and y=2, f(x,y)=0\n"
     ]
    }
   ],
   "source": [
    "x, y = sym.symbols('x,y')\n",
    "expr = (4+x)*(2-y)\n",
    "for i in range(0, 3):\n",
    "    for k in range(0, 3):\n",
    "        print(f'When x={i} and y={k}, f(x,y)={expr.subs({x:i,y:k})}')\n"
   ]
  },
  {
   "cell_type": "code",
   "execution_count": 18,
   "metadata": {},
   "outputs": [
    {
     "data": {
      "text/latex": [
       "$\\displaystyle \\left[\\begin{matrix}8.0 & 4.0 & 0.0\\\\10.0 & 5.0 & 0.0\\\\12.0 & 6.0 & 0.0\\end{matrix}\\right]$"
      ],
      "text/plain": [
       "<IPython.core.display.Math object>"
      ]
     },
     "execution_count": 18,
     "metadata": {},
     "output_type": "execute_result"
    }
   ],
   "source": [
    "x, y = sym.symbols('x,y')\n",
    "expr = (4+x)*(2-y)\n",
    "matr = np.zeros([3,3])\n",
    "for i in range(0, 3):\n",
    "    for k in range(0, 3):\n",
    "        matr[i, k] = expr.subs({x: i, y: k})\n",
    "Math(sym.latex(sym.sympify(matr)))"
   ]
  },
  {
   "cell_type": "code",
   "execution_count": 62,
   "metadata": {},
   "outputs": [
    {
     "ename": "TypeError",
     "evalue": "Math expects text, not array([[  1,   2,   3,   4,   5,   6,   7,   8,   9,  10],\n       [  2,   4,   6,   8,  10,  12,  14,  16,  18,  20],\n       [  3,   6,   9,  12,  15,  18,  21,  24,  27,  30],\n       [  4,   8,  12,  16,  20,  24,  28,  32,  36,  40],\n       [  5,  10,  15,  20,  25,  30,  35,  40,  45,  50],\n       [  6,  12,  18,  24,  30,  36,  42,  48,  54,  60],\n       [  7,  14,  21,  28,  35,  42,  49,  56,  63,  70],\n       [  8,  16,  24,  32,  40,  48,  56,  64,  72,  80],\n       [  9,  18,  27,  36,  45,  54,  63,  72,  81,  90],\n       [ 10,  20,  30,  40,  50,  60,  70,  80,  90, 100]])",
     "output_type": "error",
     "traceback": [
      "\u001b[1;31m---------------------------------------------------------------------------\u001b[0m",
      "\u001b[1;31mTypeError\u001b[0m                                 Traceback (most recent call last)",
      "Cell \u001b[1;32mIn[62], line 5\u001b[0m\n\u001b[0;32m      3\u001b[0m     \u001b[39mfor\u001b[39;00m k \u001b[39min\u001b[39;00m \u001b[39mrange\u001b[39m(\u001b[39m10\u001b[39m):\n\u001b[0;32m      4\u001b[0m         matr[i, k] \u001b[39m=\u001b[39m \u001b[39mint\u001b[39m((i\u001b[39m+\u001b[39m\u001b[39m1\u001b[39m)\u001b[39m*\u001b[39m(k\u001b[39m+\u001b[39m\u001b[39m1\u001b[39m))\n\u001b[1;32m----> 5\u001b[0m Math(matr)\n",
      "File \u001b[1;32mc:\\Users\\kantu\\anaconda3\\lib\\site-packages\\IPython\\core\\display.py:328\u001b[0m, in \u001b[0;36mDisplayObject.__init__\u001b[1;34m(self, data, url, filename, metadata)\u001b[0m\n\u001b[0;32m    325\u001b[0m     \u001b[39mself\u001b[39m\u001b[39m.\u001b[39mmetadata \u001b[39m=\u001b[39m {}\n\u001b[0;32m    327\u001b[0m \u001b[39mself\u001b[39m\u001b[39m.\u001b[39mreload()\n\u001b[1;32m--> 328\u001b[0m \u001b[39mself\u001b[39;49m\u001b[39m.\u001b[39;49m_check_data()\n",
      "File \u001b[1;32mc:\\Users\\kantu\\anaconda3\\lib\\site-packages\\IPython\\core\\display.py:407\u001b[0m, in \u001b[0;36mTextDisplayObject._check_data\u001b[1;34m(self)\u001b[0m\n\u001b[0;32m    405\u001b[0m \u001b[39mdef\u001b[39;00m \u001b[39m_check_data\u001b[39m(\u001b[39mself\u001b[39m):\n\u001b[0;32m    406\u001b[0m     \u001b[39mif\u001b[39;00m \u001b[39mself\u001b[39m\u001b[39m.\u001b[39mdata \u001b[39mis\u001b[39;00m \u001b[39mnot\u001b[39;00m \u001b[39mNone\u001b[39;00m \u001b[39mand\u001b[39;00m \u001b[39mnot\u001b[39;00m \u001b[39misinstance\u001b[39m(\u001b[39mself\u001b[39m\u001b[39m.\u001b[39mdata, \u001b[39mstr\u001b[39m):\n\u001b[1;32m--> 407\u001b[0m         \u001b[39mraise\u001b[39;00m \u001b[39mTypeError\u001b[39;00m(\u001b[39m\"\u001b[39m\u001b[39m%s\u001b[39;00m\u001b[39m expects text, not \u001b[39m\u001b[39m%r\u001b[39;00m\u001b[39m\"\u001b[39m \u001b[39m%\u001b[39m (\u001b[39mself\u001b[39m\u001b[39m.\u001b[39m\u001b[39m__class__\u001b[39m\u001b[39m.\u001b[39m\u001b[39m__name__\u001b[39m, \u001b[39mself\u001b[39m\u001b[39m.\u001b[39mdata))\n",
      "\u001b[1;31mTypeError\u001b[0m: Math expects text, not array([[  1,   2,   3,   4,   5,   6,   7,   8,   9,  10],\n       [  2,   4,   6,   8,  10,  12,  14,  16,  18,  20],\n       [  3,   6,   9,  12,  15,  18,  21,  24,  27,  30],\n       [  4,   8,  12,  16,  20,  24,  28,  32,  36,  40],\n       [  5,  10,  15,  20,  25,  30,  35,  40,  45,  50],\n       [  6,  12,  18,  24,  30,  36,  42,  48,  54,  60],\n       [  7,  14,  21,  28,  35,  42,  49,  56,  63,  70],\n       [  8,  16,  24,  32,  40,  48,  56,  64,  72,  80],\n       [  9,  18,  27,  36,  45,  54,  63,  72,  81,  90],\n       [ 10,  20,  30,  40,  50,  60,  70,  80,  90, 100]])"
     ]
    }
   ],
   "source": [
    "matr = np.zeros([10, 10], dtype=int)\n",
    "for i in range(10):\n",
    "    for k in range(10):\n",
    "        matr[i, k] = int((i+1)*(k+1))\n",
    "Math(sym.latex(sym.sympify(matr)))\n"
   ]
  },
  {
   "cell_type": "code",
   "execution_count": 54,
   "metadata": {},
   "outputs": [
    {
     "data": {
      "text/latex": [
       "$\\displaystyle x \\left(4 - 6 x\\right) + 3 x\\quad \\Longleftrightarrow \\quad- 6 x^{2} + 7 x$"
      ],
      "text/plain": [
       "<IPython.core.display.Math object>"
      ]
     },
     "metadata": {},
     "output_type": "display_data"
    },
    {
     "data": {
      "text/latex": [
       "$\\displaystyle - x \\left(\\frac{2}{x} + \\frac{4}{x^{2}}\\right) + \\frac{x + 4}{4 x}\\quad \\Longleftrightarrow \\quad- \\frac{7}{4} - \\frac{3}{x}$"
      ],
      "text/plain": [
       "<IPython.core.display.Math object>"
      ]
     },
     "metadata": {},
     "output_type": "display_data"
    },
    {
     "data": {
      "text/latex": [
       "$\\displaystyle \\frac{\\left(x - 3\\right) \\left(x + 3\\right)}{9}\\quad \\Longleftrightarrow \\quad\\frac{x^{2}}{9} - 1$"
      ],
      "text/plain": [
       "<IPython.core.display.Math object>"
      ]
     },
     "metadata": {},
     "output_type": "display_data"
    }
   ],
   "source": [
    "x = sym.symbols('x')\n",
    "\n",
    "e1 = 2*x + x*(4-6*x) + x\n",
    "e2 = -x*(2/x + 4/(x**2)) + (4+x)/(4*x)\n",
    "e3 = (x+3)*(x-3)*x*(1/(9*x))\n",
    "\n",
    "eList = [e1, e2, e3]\n",
    "\n",
    "for i in range(len(eList)):\n",
    "    display(Math(sym.latex(sym.sympify(eList[i])) + '\\\\quad \\\\Longleftrightarrow \\\\quad' +\n",
    "                 sym.latex(sym.expand(sym.sympify(eList[i])))))\n"
   ]
  },
  {
   "cell_type": "code",
   "execution_count": 61,
   "metadata": {},
   "outputs": [
    {
     "data": {
      "image/png": "[encoded data removed]",
      "text/latex": [
       "$\\displaystyle \\left[ 9\\right]$"
      ],
      "text/plain": [
       "[9]"
      ]
     },
     "execution_count": 61,
     "metadata": {},
     "output_type": "execute_result"
    }
   ],
   "source": [
    "list(range(10))[::-13]"
   ]
  },
  {
   "cell_type": "code",
   "execution_count": 19,
   "metadata": {},
   "outputs": [
    {
     "data": {
      "text/latex": [
       "$\\displaystyle 175\\quad5$"
      ],
      "text/plain": [
       "<IPython.core.display.Math object>"
      ]
     },
     "execution_count": 19,
     "metadata": {},
     "output_type": "execute_result"
    }
   ],
   "source": [
    "a,b,c = sym.symbols('a,b,c')\n",
    "a = 10\n",
    "b = 25\n",
    "c = 35\n",
    "Math('gcd({c}{a},{c}{b}) = {c}gcd({a},{b})')\n",
    "Math(str(sym.gcd(c*a,c*b)) + '\\\\quad' +   str(sym.gcd(a,b)))"
   ]
  },
  {
   "cell_type": "code",
   "execution_count": 20,
   "metadata": {},
   "outputs": [
    {
     "data": {
      "text/latex": [
       "$\\displaystyle \\left[\\begin{array}{}1 & 1 & 1 & 1 & 1 & 1 & 1 & 1 & 1 & 1 & 1 & 1 & 1 & 1 & 1\\\\1 & 2 & 1 & 2 & 1 & 2 & 1 & 2 & 1 & 2 & 1 & 2 & 1 & 2 & 1\\\\1 & 1 & 3 & 1 & 1 & 3 & 1 & 1 & 3 & 1 & 1 & 3 & 1 & 1 & 3\\\\1 & 2 & 1 & 4 & 1 & 2 & 1 & 4 & 1 & 2 & 1 & 4 & 1 & 2 & 1\\\\1 & 1 & 1 & 1 & 5 & 1 & 1 & 1 & 1 & 5 & 1 & 1 & 1 & 1 & 5\\\\1 & 2 & 3 & 2 & 1 & 6 & 1 & 2 & 3 & 2 & 1 & 6 & 1 & 2 & 3\\\\1 & 1 & 1 & 1 & 1 & 1 & 7 & 1 & 1 & 1 & 1 & 1 & 1 & 7 & 1\\\\1 & 2 & 1 & 4 & 1 & 2 & 1 & 8 & 1 & 2 & 1 & 4 & 1 & 2 & 1\\\\1 & 1 & 3 & 1 & 1 & 3 & 1 & 1 & 9 & 1 & 1 & 3 & 1 & 1 & 3\\\\1 & 2 & 1 & 2 & 5 & 2 & 1 & 2 & 1 & 10 & 1 & 2 & 1 & 2 & 5\\end{array}\\right]$"
      ],
      "text/plain": [
       "<IPython.core.display.Math object>"
      ]
     },
     "execution_count": 20,
     "metadata": {},
     "output_type": "execute_result"
    }
   ],
   "source": [
    "matr = np.zeros([10, 15],dtype=int)\n",
    "for i in range(len(matr)):\n",
    "    for j in range(len(matr)+5):\n",
    "        matr[i, j] = sym.gcd(i+1, j+1)\n",
    "Math(sym.latex(sym.simplify(matr)))\n"
   ]
  },
  {
   "cell_type": "code",
   "execution_count": 16,
   "metadata": {},
   "outputs": [
    {
     "name": "stdout",
     "output_type": "stream",
     "text": [
      "Solution for vars with X:\n"
     ]
    },
    {
     "data": {
      "text/latex": [
       "$\\displaystyle 4 x - 6= 0 \\quad \\Rightarrow \\quad X\\left[ \\frac{3}{2}\\right]$"
      ],
      "text/plain": [
       "<IPython.core.display.Math object>"
      ]
     },
     "metadata": {},
     "output_type": "display_data"
    },
    {
     "data": {
      "text/latex": [
       "$\\displaystyle x^{2} - 9= 0 \\quad \\Rightarrow \\quad X\\left[ -3, \\  3\\right]$"
      ],
      "text/plain": [
       "<IPython.core.display.Math object>"
      ]
     },
     "metadata": {},
     "output_type": "display_data"
    },
    {
     "name": "stdout",
     "output_type": "stream",
     "text": [
      "Solution for vars with Y:\n"
     ]
    },
    {
     "data": {
      "text/latex": [
       "$\\displaystyle \\sin{\\left(y \\right)}= 0 \\quad \\Rightarrow \\quad Y\\left[ 0, \\  \\pi\\right]$"
      ],
      "text/plain": [
       "<IPython.core.display.Math object>"
      ]
     },
     "metadata": {},
     "output_type": "display_data"
    }
   ],
   "source": [
    "x, y = sym.symbols('x,y')\n",
    "\n",
    "D = dict(withX=[4*x - 6, x**2 - 9], withY=[sym.sin(y)])\n",
    "\n",
    "for key in D:\n",
    "    print('Solution for vars with ' + key[-1] + ':')\n",
    "    for eq in D[key]:\n",
    "        display(Math(sym.latex(eq) + '= 0' + ' \\\\quad \\\\Rightarrow \\\\quad ' + key[-1] +\n",
    "                sym.latex(sym.solve(eq))))\n"
   ]
  },
  {
   "cell_type": "code",
   "execution_count": 31,
   "metadata": {},
   "outputs": [
    {
     "name": "stdout",
     "output_type": "stream",
     "text": [
      "2 is a prime number\n",
      "3 is a prime number\n",
      "4 is a composite number with prime factors [2]\n",
      "5 is a prime number\n",
      "6 is a composite number with prime factors [2, 3]\n",
      "7 is a prime number\n",
      "8 is a composite number with prime factors [2]\n",
      "9 is a composite number with prime factors [3]\n",
      "10 is a composite number with prime factors [2, 5]\n",
      "11 is a prime number\n",
      "12 is a composite number with prime factors [2, 3]\n",
      "13 is a prime number\n",
      "14 is a composite number with prime factors [2, 7]\n",
      "15 is a composite number with prime factors [3, 5]\n",
      "16 is a composite number with prime factors [2]\n",
      "17 is a prime number\n",
      "18 is a composite number with prime factors [2, 3]\n",
      "19 is a prime number\n",
      "20 is a composite number with prime factors [2, 5]\n",
      "21 is a composite number with prime factors [3, 7]\n",
      "22 is a composite number with prime factors [2, 11]\n",
      "23 is a prime number\n",
      "24 is a composite number with prime factors [2, 3]\n",
      "25 is a composite number with prime factors [5]\n",
      "26 is a composite number with prime factors [2, 13]\n",
      "27 is a composite number with prime factors [3]\n",
      "28 is a composite number with prime factors [2, 7]\n",
      "29 is a prime number\n",
      "30 is a composite number with prime factors [2, 3, 5]\n",
      "31 is a prime number\n",
      "32 is a composite number with prime factors [2]\n",
      "33 is a composite number with prime factors [3, 11]\n",
      "34 is a composite number with prime factors [2, 17]\n",
      "35 is a composite number with prime factors [5, 7]\n",
      "36 is a composite number with prime factors [2, 3]\n",
      "37 is a prime number\n",
      "38 is a composite number with prime factors [2, 19]\n",
      "39 is a composite number with prime factors [3, 13]\n",
      "40 is a composite number with prime factors [2, 5]\n",
      "41 is a prime number\n",
      "42 is a composite number with prime factors [2, 3, 7]\n",
      "43 is a prime number\n",
      "44 is a composite number with prime factors [2, 11]\n",
      "45 is a composite number with prime factors [3, 5]\n",
      "46 is a composite number with prime factors [2, 23]\n",
      "47 is a prime number\n",
      "48 is a composite number with prime factors [2, 3]\n",
      "49 is a composite number with prime factors [7]\n",
      "50 is a composite number with prime factors [2, 5]\n"
     ]
    }
   ],
   "source": [
    "for i in range(2, 51):\n",
    "    if list(sym.factorint(i).keys())[0] == i:\n",
    "        print(f'{i} is a prime number')\n",
    "    else:\n",
    "        print(\n",
    "            f'{i} is a composite number with prime factors {list(sym.factorint(i).keys())}')\n"
   ]
  },
  {
   "cell_type": "code",
   "execution_count": 34,
   "metadata": {},
   "outputs": [
    {
     "data": {
      "image/png": "[encoded data removed]",
      "text/latex": [
       "$\\displaystyle \\frac{22}{17} \\leq x \\wedge x < \\infty$"
      ],
      "text/plain": [
       "22            \n",
       "── ≤ x ∧ x < ∞\n",
       "17            "
      ]
     },
     "execution_count": 34,
     "metadata": {},
     "output_type": "execute_result"
    }
   ],
   "source": [
    "x = sym.symbols('x')\n",
    "expr = 3*x/2 + (4-5*x)/3 <= 2 - (5*(2-x))/4\n",
    "sym.solve(expr) \n"
   ]
  },
  {
   "cell_type": "code",
   "execution_count": 5,
   "metadata": {},
   "outputs": [
    {
     "name": "stdout",
     "output_type": "stream",
     "text": [
      "The degree of x**2 + 2*x is even, and the coeffs sum to  3\n",
      "The degree of -x**3 + 4*x is odd, and the coeffs sum to  2\n",
      "The degree of x**5 - x**4 + x/4 + 4 is odd, and the coeffs sum to  4\n"
     ]
    }
   ],
   "source": [
    "from sympy.abc import x\n",
    "\n",
    "ex1 = sym.Poly(x**2 + 2*x)\n",
    "ex2 = sym.Poly(-x**3 + 4*x)\n",
    "ex3 = sym.Poly(x**5 - x**4 + x/4 + 4)\n",
    "\n",
    "\n",
    "exList = [ex1, ex2, ex3]\n",
    "\n",
    "for i in exList:\n",
    "    if i.degree() % 2 == 0:\n",
    "        print('The degree of %s is even, and the coeffs sum to  %g' %\n",
    "              (i.as_expr(), sum(i.coeffs())))\n",
    "    else:\n",
    "        print('The degree of %s is odd, and the coeffs sum to  %g' %\n",
    "              (i.as_expr(), len(i.coeffs())))\n"
   ]
  },
  {
   "cell_type": "code",
   "execution_count": 11,
   "metadata": {},
   "outputs": [
    {
     "data": {
      "text/latex": [
       "$\\displaystyle -1085833.8$"
      ],
      "text/plain": [
       "<IPython.core.display.Math object>"
      ]
     },
     "metadata": {},
     "output_type": "display_data"
    },
    {
     "data": {
      "text/latex": [
       "$\\displaystyle -1085833.8$"
      ],
      "text/plain": [
       "<IPython.core.display.Math object>"
      ]
     },
     "metadata": {},
     "output_type": "display_data"
    }
   ],
   "source": [
    "from sympy.abc import x, y\n",
    "\n",
    "ex1 = 4*x**4 - 3*x**2 + x*y**2 - 9*y**3\n",
    "ex2 = -x**3+6*x**2*y+0.8*y**3\n",
    "\n",
    "display(Math(sym.latex(sym.expand(ex1 * ex2).subs({x: 5, y: -2}))))\n",
    "\n",
    "\n",
    "display(\n",
    "    Math(sym.latex(sym.expand(ex1.subs({x: 5, y: -2}) * ex2.subs({x: 5, y: -2})))))\n"
   ]
  },
  {
   "cell_type": "code",
   "execution_count": 38,
   "metadata": {},
   "outputs": [
    {
     "name": "stdout",
     "output_type": "stream",
     "text": [
      "There is no denominator with y = 9\n"
     ]
    },
    {
     "data": {
      "image/png": "[encoded data removed]",
      "text/latex": [
       "$\\displaystyle x^{3} + 2 x - 3$"
      ],
      "text/plain": [
       " 3          \n",
       "x  + 2⋅x - 3"
      ]
     },
     "metadata": {},
     "output_type": "display_data"
    }
   ],
   "source": [
    "from sympy.abc import x, y\n",
    "\n",
    "expr1 = (x**6 + 2*x**4+6*x-y) / (x**3+3)\n",
    "\n",
    "for i in range(5, 16):\n",
    "    if sym.fraction(sym.simplify(expr1.subs(y, i)))[1] == 1:\n",
    "        print('There is no denominator with y = ' + str(i))\n",
    "        display(sym.simplify(expr1.subs(y, i)))\n"
   ]
  },
  {
   "cell_type": "code",
   "execution_count": 57,
   "metadata": {},
   "outputs": [
    {
     "data": {
      "text/latex": [
       "$\\displaystyle x^{2} + 4 x + 3 \\quad \\Rightarrow \\quad \\left(x + 1\\right) \\left(x + 3\\right)$"
      ],
      "text/plain": [
       "<IPython.core.display.Math object>"
      ]
     },
     "metadata": {},
     "output_type": "display_data"
    },
    {
     "data": {
      "text/latex": [
       "$\\displaystyle 2 y^{2} - 1 \\quad \\Rightarrow \\quad \\text{not factorable!}$"
      ],
      "text/plain": [
       "<IPython.core.display.Math object>"
      ]
     },
     "metadata": {},
     "output_type": "display_data"
    },
    {
     "data": {
      "text/latex": [
       "$\\displaystyle 3 y^{2} + 12 y \\quad \\Rightarrow \\quad 3 y \\left(y + 4\\right)$"
      ],
      "text/plain": [
       "<IPython.core.display.Math object>"
      ]
     },
     "metadata": {},
     "output_type": "display_data"
    }
   ],
   "source": [
    "exList = [x**2+4*x+3, 2*y**2-1, 3*y**2 + 12*y]\n",
    "\n",
    "for ex in exList:\n",
    "    if sym.latex(ex) == sym.latex(sym.factor(ex)):\n",
    "        display(\n",
    "            Math(f'{sym.latex(ex)} \\\\quad \\\\Rightarrow \\\\quad \\\\text{{not factorable!}}'))\n",
    "    else:\n",
    "        display(\n",
    "            Math(f'{sym.latex(ex)} \\\\quad \\\\Rightarrow \\\\quad {sym.latex(sym.factor(ex))}'))\n"
   ]
  },
  {
   "cell_type": "code",
   "execution_count": null,
   "metadata": {},
   "outputs": [],
   "source": []
  }
 ],
 "metadata": {
  "kernelspec": {
   "display_name": "base",
   "language": "python",
   "name": "python3"
  },
  "language_info": {
   "codemirror_mode": {
    "name": "ipython",
    "version": 3
   },
   "file_extension": ".py",
   "mimetype": "text/x-python",
   "name": "python",
   "nbconvert_exporter": "python",
   "pygments_lexer": "ipython3",
   "version": "3.9.16"
  },
  "orig_nbformat": 4
 },
 "nbformat": 4,
 "nbformat_minor": 2
}
