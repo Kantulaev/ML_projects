{
 "cells": [
  {
   "cell_type": "code",
   "execution_count": 1,
   "metadata": {},
   "outputs": [],
   "source": [
    "import sympy as sym\n",
    "from IPython.display import Math,display\n",
    "import numpy as np\n",
    "\n",
    "sym.init_printing()"
   ]
  },
  {
   "cell_type": "code",
   "execution_count": 2,
   "metadata": {},
   "outputs": [
    {
     "data": {
      "image/png": "[encoded data removed]",
      "text/latex": [
       "$\\displaystyle \\left[ 0\\right]$"
      ],
      "text/plain": [
       "[0]"
      ]
     },
     "execution_count": 2,
     "metadata": {},
     "output_type": "execute_result"
    }
   ],
   "source": [
    "x = sym.symbols('x')\n",
    "sym.solve(4*x)"
   ]
  },
  {
   "cell_type": "code",
   "execution_count": 3,
   "metadata": {},
   "outputs": [
    {
     "data": {
      "image/png": "[encoded data removed]",
      "text/latex": [
       "$\\displaystyle \\left[ \\frac{1}{2} - \\frac{\\sqrt{7}}{2}, \\  \\frac{1}{2} + \\frac{\\sqrt{7}}{2}\\right]$"
      ],
      "text/plain": [
       "⎡1   √7  1   √7⎤\n",
       "⎢─ - ──, ─ + ──⎥\n",
       "⎣2   2   2   2 ⎦"
      ]
     },
     "execution_count": 3,
     "metadata": {},
     "output_type": "execute_result"
    }
   ],
   "source": [
    "q = sym.symbols('q')\n",
    "expr1 = 3*q + 4/q + 3\n",
    "expr2 = 5*q + 1/q + 1\n",
    "sym.solve(sym.Eq(sym.simplify(expr1), sym.simplify(expr2)))\n",
    "sym.solve(expr1 - expr2)\n"
   ]
  },
  {
   "cell_type": "code",
   "execution_count": 6,
   "metadata": {},
   "outputs": [
    {
     "data": {
      "image/png": "[encoded data removed]",
      "text/latex": [
       "$\\displaystyle \\left[ \\operatorname{CRootOf} {\\left(3 x^{5} + 2 x^{4} - 5 x^{2} - 4, 0\\right)}, \\  \\operatorname{CRootOf} {\\left(3 x^{5} + 2 x^{4} - 5 x^{2} - 4, 1\\right)}, \\  \\operatorname{CRootOf} {\\left(3 x^{5} + 2 x^{4} - 5 x^{2} - 4, 2\\right)}, \\  \\operatorname{CRootOf} {\\left(3 x^{5} + 2 x^{4} - 5 x^{2} - 4, 3\\right)}, \\  \\operatorname{CRootOf} {\\left(3 x^{5} + 2 x^{4} - 5 x^{2} - 4, 4\\right)}\\right]$"
      ],
      "text/plain": [
       "⎡       ⎛   5      4      2       ⎞         ⎛   5      4      2       ⎞       \n",
       "⎣CRootOf⎝3⋅x  + 2⋅x  - 5⋅x  - 4, 0⎠, CRootOf⎝3⋅x  + 2⋅x  - 5⋅x  - 4, 1⎠, CRoot\n",
       "\n",
       "  ⎛   5      4      2       ⎞         ⎛   5      4      2       ⎞         ⎛   \n",
       "Of⎝3⋅x  + 2⋅x  - 5⋅x  - 4, 2⎠, CRootOf⎝3⋅x  + 2⋅x  - 5⋅x  - 4, 3⎠, CRootOf⎝3⋅x\n",
       "\n",
       "5      4      2       ⎞⎤\n",
       "  + 2⋅x  - 5⋅x  - 4, 4⎠⎦"
      ]
     },
     "execution_count": 6,
     "metadata": {},
     "output_type": "execute_result"
    }
   ],
   "source": [
    "expr3 = 2*q + 3*q**2 - 5/q-4/q**3\n",
    "# sym.simplify(expr3)\n",
    "# sym.cancel(expr3)\n",
    "# expr3\n",
    "sym.solve(expr3)"
   ]
  },
  {
   "cell_type": "code",
   "execution_count": 5,
   "metadata": {},
   "outputs": [
    {
     "data": {
      "image/png": "[encoded data removed]",
      "text/latex": [
       "$\\displaystyle 1.22474487139159$"
      ],
      "text/plain": [
       "1.22474487139159"
      ]
     },
     "execution_count": 5,
     "metadata": {},
     "output_type": "execute_result"
    }
   ],
   "source": [
    "expr4 = (sym.sqrt(3) + sym.sqrt(15)*q) / (sym.sqrt(2) + sym.sqrt(10)*q) \n",
    "expr4.subs(q,20).evalf()"
   ]
  },
  {
   "cell_type": "code",
   "execution_count": 10,
   "metadata": {},
   "outputs": [
    {
     "name": "stdout",
     "output_type": "stream",
     "text": [
      "When x=0 and y=0, f(x,y)=8\n",
      "When x=0 and y=1, f(x,y)=4\n",
      "When x=0 and y=2, f(x,y)=0\n",
      "When x=1 and y=0, f(x,y)=10\n",
      "When x=1 and y=1, f(x,y)=5\n",
      "When x=1 and y=2, f(x,y)=0\n",
      "When x=2 and y=0, f(x,y)=12\n",
      "When x=2 and y=1, f(x,y)=6\n",
      "When x=2 and y=2, f(x,y)=0\n"
     ]
    }
   ],
   "source": [
    "x, y = sym.symbols('x,y')\n",
    "expr = (4+x)*(2-y)\n",
    "for i in range(0, 3):\n",
    "    for k in range(0, 3):\n",
    "        print(f'When x={i} and y={k}, f(x,y)={expr.subs({x:i,y:k})}')\n"
   ]
  },
  {
   "cell_type": "code",
   "execution_count": 18,
   "metadata": {},
   "outputs": [
    {
     "data": {
      "text/latex": [
       "$\\displaystyle \\left[\\begin{matrix}8.0 & 4.0 & 0.0\\\\10.0 & 5.0 & 0.0\\\\12.0 & 6.0 & 0.0\\end{matrix}\\right]$"
      ],
      "text/plain": [
       "<IPython.core.display.Math object>"
      ]
     },
     "execution_count": 18,
     "metadata": {},
     "output_type": "execute_result"
    }
   ],
   "source": [
    "x, y = sym.symbols('x,y')\n",
    "expr = (4+x)*(2-y)\n",
    "matr = np.zeros([3,3])\n",
    "for i in range(0, 3):\n",
    "    for k in range(0, 3):\n",
    "        matr[i, k] = expr.subs({x: i, y: k})\n",
    "Math(sym.latex(sym.sympify(matr)))"
   ]
  },
  {
   "cell_type": "code",
   "execution_count": 62,
   "metadata": {},
   "outputs": [
    {
     "ename": "TypeError",
     "evalue": "Math expects text, not array([[  1,   2,   3,   4,   5,   6,   7,   8,   9,  10],\n       [  2,   4,   6,   8,  10,  12,  14,  16,  18,  20],\n       [  3,   6,   9,  12,  15,  18,  21,  24,  27,  30],\n       [  4,   8,  12,  16,  20,  24,  28,  32,  36,  40],\n       [  5,  10,  15,  20,  25,  30,  35,  40,  45,  50],\n       [  6,  12,  18,  24,  30,  36,  42,  48,  54,  60],\n       [  7,  14,  21,  28,  35,  42,  49,  56,  63,  70],\n       [  8,  16,  24,  32,  40,  48,  56,  64,  72,  80],\n       [  9,  18,  27,  36,  45,  54,  63,  72,  81,  90],\n       [ 10,  20,  30,  40,  50,  60,  70,  80,  90, 100]])",
     "output_type": "error",
     "traceback": [
      "\u001b[1;31m---------------------------------------------------------------------------\u001b[0m",
      "\u001b[1;31mTypeError\u001b[0m                                 Traceback (most recent call last)",
      "Cell \u001b[1;32mIn[62], line 5\u001b[0m\n\u001b[0;32m      3\u001b[0m     \u001b[39mfor\u001b[39;00m k \u001b[39min\u001b[39;00m \u001b[39mrange\u001b[39m(\u001b[39m10\u001b[39m):\n\u001b[0;32m      4\u001b[0m         matr[i, k] \u001b[39m=\u001b[39m \u001b[39mint\u001b[39m((i\u001b[39m+\u001b[39m\u001b[39m1\u001b[39m)\u001b[39m*\u001b[39m(k\u001b[39m+\u001b[39m\u001b[39m1\u001b[39m))\n\u001b[1;32m----> 5\u001b[0m Math(matr)\n",
      "File \u001b[1;32mc:\\Users\\kantu\\anaconda3\\lib\\site-packages\\IPython\\core\\display.py:328\u001b[0m, in \u001b[0;36mDisplayObject.__init__\u001b[1;34m(self, data, url, filename, metadata)\u001b[0m\n\u001b[0;32m    325\u001b[0m     \u001b[39mself\u001b[39m\u001b[39m.\u001b[39mmetadata \u001b[39m=\u001b[39m {}\n\u001b[0;32m    327\u001b[0m \u001b[39mself\u001b[39m\u001b[39m.\u001b[39mreload()\n\u001b[1;32m--> 328\u001b[0m \u001b[39mself\u001b[39;49m\u001b[39m.\u001b[39;49m_check_data()\n",
      "File \u001b[1;32mc:\\Users\\kantu\\anaconda3\\lib\\site-packages\\IPython\\core\\display.py:407\u001b[0m, in \u001b[0;36mTextDisplayObject._check_data\u001b[1;34m(self)\u001b[0m\n\u001b[0;32m    405\u001b[0m \u001b[39mdef\u001b[39;00m \u001b[39m_check_data\u001b[39m(\u001b[39mself\u001b[39m):\n\u001b[0;32m    406\u001b[0m     \u001b[39mif\u001b[39;00m \u001b[39mself\u001b[39m\u001b[39m.\u001b[39mdata \u001b[39mis\u001b[39;00m \u001b[39mnot\u001b[39;00m \u001b[39mNone\u001b[39;00m \u001b[39mand\u001b[39;00m \u001b[39mnot\u001b[39;00m \u001b[39misinstance\u001b[39m(\u001b[39mself\u001b[39m\u001b[39m.\u001b[39mdata, \u001b[39mstr\u001b[39m):\n\u001b[1;32m--> 407\u001b[0m         \u001b[39mraise\u001b[39;00m \u001b[39mTypeError\u001b[39;00m(\u001b[39m\"\u001b[39m\u001b[39m%s\u001b[39;00m\u001b[39m expects text, not \u001b[39m\u001b[39m%r\u001b[39;00m\u001b[39m\"\u001b[39m \u001b[39m%\u001b[39m (\u001b[39mself\u001b[39m\u001b[39m.\u001b[39m\u001b[39m__class__\u001b[39m\u001b[39m.\u001b[39m\u001b[39m__name__\u001b[39m, \u001b[39mself\u001b[39m\u001b[39m.\u001b[39mdata))\n",
      "\u001b[1;31mTypeError\u001b[0m: Math expects text, not array([[  1,   2,   3,   4,   5,   6,   7,   8,   9,  10],\n       [  2,   4,   6,   8,  10,  12,  14,  16,  18,  20],\n       [  3,   6,   9,  12,  15,  18,  21,  24,  27,  30],\n       [  4,   8,  12,  16,  20,  24,  28,  32,  36,  40],\n       [  5,  10,  15,  20,  25,  30,  35,  40,  45,  50],\n       [  6,  12,  18,  24,  30,  36,  42,  48,  54,  60],\n       [  7,  14,  21,  28,  35,  42,  49,  56,  63,  70],\n       [  8,  16,  24,  32,  40,  48,  56,  64,  72,  80],\n       [  9,  18,  27,  36,  45,  54,  63,  72,  81,  90],\n       [ 10,  20,  30,  40,  50,  60,  70,  80,  90, 100]])"
     ]
    }
   ],
   "source": [
    "matr = np.zeros([10, 10], dtype=int)\n",
    "for i in range(10):\n",
    "    for k in range(10):\n",
    "        matr[i, k] = int((i+1)*(k+1))\n",
    "Math(sym.latex(sym.sympify(matr)))\n"
   ]
  },
  {
   "cell_type": "code",
   "execution_count": 54,
   "metadata": {},
   "outputs": [
    {
     "data": {
      "text/latex": [
       "$\\displaystyle x \\left(4 - 6 x\\right) + 3 x\\quad \\Longleftrightarrow \\quad- 6 x^{2} + 7 x$"
      ],
      "text/plain": [
       "<IPython.core.display.Math object>"
      ]
     },
     "metadata": {},
     "output_type": "display_data"
    },
    {
     "data": {
      "text/latex": [
       "$\\displaystyle - x \\left(\\frac{2}{x} + \\frac{4}{x^{2}}\\right) + \\frac{x + 4}{4 x}\\quad \\Longleftrightarrow \\quad- \\frac{7}{4} - \\frac{3}{x}$"
      ],
      "text/plain": [
       "<IPython.core.display.Math object>"
      ]
     },
     "metadata": {},
     "output_type": "display_data"
    },
    {
     "data": {
      "text/latex": [
       "$\\displaystyle \\frac{\\left(x - 3\\right) \\left(x + 3\\right)}{9}\\quad \\Longleftrightarrow \\quad\\frac{x^{2}}{9} - 1$"
      ],
      "text/plain": [
       "<IPython.core.display.Math object>"
      ]
     },
     "metadata": {},
     "output_type": "display_data"
    }
   ],
   "source": [
    "x = sym.symbols('x')\n",
    "\n",
    "e1 = 2*x + x*(4-6*x) + x\n",
    "e2 = -x*(2/x + 4/(x**2)) + (4+x)/(4*x)\n",
    "e3 = (x+3)*(x-3)*x*(1/(9*x))\n",
    "\n",
    "eList = [e1, e2, e3]\n",
    "\n",
    "for i in range(len(eList)):\n",
    "    display(Math(sym.latex(sym.sympify(eList[i])) + '\\\\quad \\\\Longleftrightarrow \\\\quad' +\n",
    "                 sym.latex(sym.expand(sym.sympify(eList[i])))))\n"
   ]
  },
  {
   "cell_type": "code",
   "execution_count": 61,
   "metadata": {},
   "outputs": [
    {
     "data": {
      "image/png": "[encoded data removed]",
      "text/latex": [
       "$\\displaystyle \\left[ 9\\right]$"
      ],
      "text/plain": [
       "[9]"
      ]
     },
     "execution_count": 61,
     "metadata": {},
     "output_type": "execute_result"
    }
   ],
   "source": [
    "list(range(10))[::-13]"
   ]
  },
  {
   "cell_type": "code",
   "execution_count": 19,
   "metadata": {},
   "outputs": [
    {
     "data": {
      "text/latex": [
       "$\\displaystyle 175\\quad5$"
      ],
      "text/plain": [
       "<IPython.core.display.Math object>"
      ]
     },
     "execution_count": 19,
     "metadata": {},
     "output_type": "execute_result"
    }
   ],
   "source": [
    "a,b,c = sym.symbols('a,b,c')\n",
    "a = 10\n",
    "b = 25\n",
    "c = 35\n",
    "Math('gcd({c}{a},{c}{b}) = {c}gcd({a},{b})')\n",
    "Math(str(sym.gcd(c*a,c*b)) + '\\\\quad' +   str(sym.gcd(a,b)))"
   ]
  },
  {
   "cell_type": "code",
   "execution_count": 20,
   "metadata": {},
   "outputs": [
    {
     "data": {
      "text/latex": [
       "$\\displaystyle \\left[\\begin{array}{}1 & 1 & 1 & 1 & 1 & 1 & 1 & 1 & 1 & 1 & 1 & 1 & 1 & 1 & 1\\\\1 & 2 & 1 & 2 & 1 & 2 & 1 & 2 & 1 & 2 & 1 & 2 & 1 & 2 & 1\\\\1 & 1 & 3 & 1 & 1 & 3 & 1 & 1 & 3 & 1 & 1 & 3 & 1 & 1 & 3\\\\1 & 2 & 1 & 4 & 1 & 2 & 1 & 4 & 1 & 2 & 1 & 4 & 1 & 2 & 1\\\\1 & 1 & 1 & 1 & 5 & 1 & 1 & 1 & 1 & 5 & 1 & 1 & 1 & 1 & 5\\\\1 & 2 & 3 & 2 & 1 & 6 & 1 & 2 & 3 & 2 & 1 & 6 & 1 & 2 & 3\\\\1 & 1 & 1 & 1 & 1 & 1 & 7 & 1 & 1 & 1 & 1 & 1 & 1 & 7 & 1\\\\1 & 2 & 1 & 4 & 1 & 2 & 1 & 8 & 1 & 2 & 1 & 4 & 1 & 2 & 1\\\\1 & 1 & 3 & 1 & 1 & 3 & 1 & 1 & 9 & 1 & 1 & 3 & 1 & 1 & 3\\\\1 & 2 & 1 & 2 & 5 & 2 & 1 & 2 & 1 & 10 & 1 & 2 & 1 & 2 & 5\\end{array}\\right]$"
      ],
      "text/plain": [
       "<IPython.core.display.Math object>"
      ]
     },
     "execution_count": 20,
     "metadata": {},
     "output_type": "execute_result"
    }
   ],
   "source": [
    "matr = np.zeros([10, 15],dtype=int)\n",
    "for i in range(len(matr)):\n",
    "    for j in range(len(matr)+5):\n",
    "        matr[i, j] = sym.gcd(i+1, j+1)\n",
    "Math(sym.latex(sym.simplify(matr)))\n"
   ]
  },
  {
   "cell_type": "code",
   "execution_count": null,
   "metadata": {},
   "outputs": [],
   "source": []
  }
 ],
 "metadata": {
  "kernelspec": {
   "display_name": "base",
   "language": "python",
   "name": "python3"
  },
  "language_info": {
   "codemirror_mode": {
    "name": "ipython",
    "version": 3
   },
   "file_extension": ".py",
   "mimetype": "text/x-python",
   "name": "python",
   "nbconvert_exporter": "python",
   "pygments_lexer": "ipython3",
   "version": "3.9.16"
  },
  "orig_nbformat": 4
 },
 "nbformat": 4,
 "nbformat_minor": 2
}
