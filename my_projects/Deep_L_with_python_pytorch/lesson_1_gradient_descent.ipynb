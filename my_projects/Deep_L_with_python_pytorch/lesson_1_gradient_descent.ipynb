{
 "cells": [
  {
   "cell_type": "code",
   "execution_count": 5,
   "metadata": {},
   "outputs": [],
   "source": [
    "import numpy as np\n",
    "import matplotlib.pyplot as plt\n",
    "import sympy"
   ]
  },
  {
   "cell_type": "code",
   "execution_count": 31,
   "metadata": {},
   "outputs": [
    {
     "name": "stdout",
     "output_type": "stream",
     "text": [
      "[1.39139139]\n",
      "[1.42506741]\n"
     ]
    }
   ],
   "source": [
    "def fx(x):\n",
    "    return np.cos(np.pi*2*x)+x**2\n",
    "\n",
    "\n",
    "def deriv(x):\n",
    "    # return sympy.diff(fx(x),x)\n",
    "    return -2*np.pi*np.sin(2*np.pi*x) + 2*x\n",
    "\n",
    "\n",
    "x = np.linspace(-2, 2, 1000)\n",
    "\n",
    "training_loops = 1000\n",
    "learning_rate = 0.01\n",
    "\n",
    "localmin = np.random.choice(x, 1)\n",
    "# localmin = 0\n",
    "print(localmin)\n",
    "\n",
    "for i in range(training_loops):\n",
    "    grad = deriv(localmin)\n",
    "    localmin -= learning_rate * grad\n",
    "print(localmin)"
   ]
  }
 ],
 "metadata": {
  "kernelspec": {
   "display_name": "base",
   "language": "python",
   "name": "python3"
  },
  "language_info": {
   "codemirror_mode": {
    "name": "ipython",
    "version": 3
   },
   "file_extension": ".py",
   "mimetype": "text/x-python",
   "name": "python",
   "nbconvert_exporter": "python",
   "pygments_lexer": "ipython3",
   "version": "3.10.11"
  },
  "orig_nbformat": 4
 },
 "nbformat": 4,
 "nbformat_minor": 2
}
