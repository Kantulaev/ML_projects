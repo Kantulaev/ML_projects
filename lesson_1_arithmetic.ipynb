{
 "cells": [
  {
   "cell_type": "code",
   "execution_count": 2,
   "metadata": {},
   "outputs": [],
   "source": [
    "from IPython.display import Math\n"
   ]
  },
  {
   "cell_type": "code",
   "execution_count": 6,
   "metadata": {},
   "outputs": [],
   "source": [
    "x = 7\n",
    "y = -2\n",
    "z = 5\n"
   ]
  },
  {
   "cell_type": "code",
   "execution_count": 16,
   "metadata": {},
   "outputs": [
    {
     "data": {
      "text/latex": [
       "$\\displaystyle 3x(4+y) = 42$"
      ],
      "text/plain": [
       "<IPython.core.display.Math object>"
      ]
     },
     "execution_count": 16,
     "metadata": {},
     "output_type": "execute_result"
    }
   ],
   "source": [
    "Math('3x(4+y) = 42')\n"
   ]
  },
  {
   "cell_type": "code",
   "execution_count": 22,
   "metadata": {},
   "outputs": [
    {
     "data": {
      "text/latex": [
       "$\\displaystyle 3 \\times 7(4+-2) = 42$"
      ],
      "text/plain": [
       "<IPython.core.display.Math object>"
      ]
     },
     "execution_count": 22,
     "metadata": {},
     "output_type": "execute_result"
    }
   ],
   "source": [
    "Math('3 \\\\times %g(4+%g) = %g' % (x, y, 42))\n"
   ]
  },
  {
   "cell_type": "code",
   "execution_count": 15,
   "metadata": {},
   "outputs": [
    {
     "data": {
      "text/latex": [
       "$\\displaystyle -y-\\frac {(x+3)}{z} = 0$"
      ],
      "text/plain": [
       "<IPython.core.display.Math object>"
      ]
     },
     "execution_count": 15,
     "metadata": {},
     "output_type": "execute_result"
    }
   ],
   "source": [
    "Math('-y-\\\\frac {(x+3)}{z} = 0')\n"
   ]
  },
  {
   "cell_type": "code",
   "execution_count": 25,
   "metadata": {},
   "outputs": [
    {
     "data": {
      "text/latex": [
       "$\\displaystyle --2-\\frac {(7+3)}{5} = 0$"
      ],
      "text/plain": [
       "<IPython.core.display.Math object>"
      ]
     },
     "execution_count": 25,
     "metadata": {},
     "output_type": "execute_result"
    }
   ],
   "source": [
    "Math('-%g-\\\\frac {(%g+3)}{%g} = %g' % (y, x, z, 0))\n"
   ]
  },
  {
   "cell_type": "code",
   "execution_count": null,
   "metadata": {},
   "outputs": [],
   "source": [
    "x = 5\n",
    "y = 5.1\n"
   ]
  },
  {
   "cell_type": "code",
   "execution_count": 2,
   "metadata": {},
   "outputs": [
    {
     "data": {
      "text/latex": [
       "$\\displaystyle x^{3/4} \\times 4^y = 3933.09$"
      ],
      "text/plain": [
       "<IPython.core.display.Math object>"
      ]
     },
     "execution_count": 2,
     "metadata": {},
     "output_type": "execute_result"
    }
   ],
   "source": [
    "Math('x^{3/4} \\\\times 4^y = 3933.09')\n"
   ]
  },
  {
   "cell_type": "code",
   "execution_count": 3,
   "metadata": {},
   "outputs": [
    {
     "data": {
      "text/latex": [
       "$\\displaystyle \\frac{3^3}{x^y} = 0.00735558$"
      ],
      "text/plain": [
       "<IPython.core.display.Math object>"
      ]
     },
     "execution_count": 3,
     "metadata": {},
     "output_type": "execute_result"
    }
   ],
   "source": [
    "Math('\\\\frac{3^3}{x^y} = 0.00735558')\n"
   ]
  },
  {
   "cell_type": "code",
   "execution_count": 4,
   "metadata": {},
   "outputs": [
    {
     "data": {
      "text/latex": [
       "$\\displaystyle 10^{x-4} = 10$"
      ],
      "text/plain": [
       "<IPython.core.display.Math object>"
      ]
     },
     "execution_count": 4,
     "metadata": {},
     "output_type": "execute_result"
    }
   ],
   "source": [
    "Math('10^{x-4} = 10')\n"
   ]
  },
  {
   "cell_type": "code",
   "execution_count": 5,
   "metadata": {},
   "outputs": [
    {
     "name": "stdout",
     "output_type": "stream",
     "text": [
      "2 to the power of 0 is 1\n",
      "2 to the power of 1 is 2\n",
      "2 to the power of 2 is 4\n",
      "2 to the power of 3 is 8\n",
      "2 to the power of 4 is 16\n",
      "2 to the power of 5 is 32\n",
      "2 to the power of 6 is 64\n",
      "2 to the power of 7 is 128\n",
      "2 to the power of 8 is 256\n",
      "2 to the power of 9 is 512\n"
     ]
    }
   ],
   "source": [
    "for i in range(0, 10):\n",
    "    print('2 to the power of %g is %g' % (i, 2**i))\n"
   ]
  },
  {
   "cell_type": "code",
   "execution_count": 17,
   "metadata": {},
   "outputs": [
    {
     "data": {
      "text/latex": [
       "$\\displaystyle 1^{-1} = 1$"
      ],
      "text/plain": [
       "<IPython.core.display.Math object>"
      ]
     },
     "metadata": {},
     "output_type": "display_data"
    },
    {
     "data": {
      "text/latex": [
       "$\\displaystyle 1^{-2} = 1$"
      ],
      "text/plain": [
       "<IPython.core.display.Math object>"
      ]
     },
     "metadata": {},
     "output_type": "display_data"
    },
    {
     "data": {
      "text/latex": [
       "$\\displaystyle 1^{-3} = 1$"
      ],
      "text/plain": [
       "<IPython.core.display.Math object>"
      ]
     },
     "metadata": {},
     "output_type": "display_data"
    },
    {
     "data": {
      "text/latex": [
       "$\\displaystyle 1^{-4} = 1$"
      ],
      "text/plain": [
       "<IPython.core.display.Math object>"
      ]
     },
     "metadata": {},
     "output_type": "display_data"
    },
    {
     "data": {
      "text/latex": [
       "$\\displaystyle 2^{-1} = 0.5$"
      ],
      "text/plain": [
       "<IPython.core.display.Math object>"
      ]
     },
     "metadata": {},
     "output_type": "display_data"
    },
    {
     "data": {
      "text/latex": [
       "$\\displaystyle 2^{-2} = 0.25$"
      ],
      "text/plain": [
       "<IPython.core.display.Math object>"
      ]
     },
     "metadata": {},
     "output_type": "display_data"
    },
    {
     "data": {
      "text/latex": [
       "$\\displaystyle 2^{-3} = 0.125$"
      ],
      "text/plain": [
       "<IPython.core.display.Math object>"
      ]
     },
     "metadata": {},
     "output_type": "display_data"
    },
    {
     "data": {
      "text/latex": [
       "$\\displaystyle 2^{-4} = 0.0625$"
      ],
      "text/plain": [
       "<IPython.core.display.Math object>"
      ]
     },
     "metadata": {},
     "output_type": "display_data"
    },
    {
     "data": {
      "text/latex": [
       "$\\displaystyle 3^{-1} = 0.333333$"
      ],
      "text/plain": [
       "<IPython.core.display.Math object>"
      ]
     },
     "metadata": {},
     "output_type": "display_data"
    },
    {
     "data": {
      "text/latex": [
       "$\\displaystyle 3^{-2} = 0.111111$"
      ],
      "text/plain": [
       "<IPython.core.display.Math object>"
      ]
     },
     "metadata": {},
     "output_type": "display_data"
    },
    {
     "data": {
      "text/latex": [
       "$\\displaystyle 3^{-3} = 0.037037$"
      ],
      "text/plain": [
       "<IPython.core.display.Math object>"
      ]
     },
     "metadata": {},
     "output_type": "display_data"
    },
    {
     "data": {
      "text/latex": [
       "$\\displaystyle 3^{-4} = 0.0123457$"
      ],
      "text/plain": [
       "<IPython.core.display.Math object>"
      ]
     },
     "metadata": {},
     "output_type": "display_data"
    }
   ],
   "source": [
    "for i in range(0, 4):\n",
    "    for j in range(0, 5):\n",
    "        if i > 0 and j > 0:\n",
    "            x = i**(-j)\n",
    "            display(Math('%g^{-%g} = %g' % (i, j, x)))\n"
   ]
  },
  {
   "cell_type": "code",
   "execution_count": 21,
   "metadata": {},
   "outputs": [
    {
     "name": "stdout",
     "output_type": "stream",
     "text": [
      "-4 was not tested\n",
      "Absolute value of 5 is 5\n",
      "Absolute value of 43 is 43\n",
      "Absolute value of -18 is 18\n",
      "2 was not tested\n",
      "0 was not tested\n"
     ]
    }
   ],
   "source": [
    "numbers = [-4, 6-1, 43, -18, 2, 0]\n",
    "\n",
    "for i in numbers:\n",
    "    if i > 2 or i < -5:\n",
    "        print('Absolute value of %g is %g' % (i, abs(i)))\n",
    "    else:\n",
    "        print('%g was not tested' % i)\n"
   ]
  },
  {
   "cell_type": "code",
   "execution_count": 29,
   "metadata": {},
   "outputs": [
    {
     "name": "stdout",
     "output_type": "stream",
     "text": [
      "-5 is an odd  number\n",
      "-4 is an even number\n",
      "-3 is an odd  number\n",
      "-2 is an even number\n",
      "-1 is an odd  number\n",
      " 0 is an even number\n",
      " 1 is an odd  number\n",
      " 2 is an even number\n",
      " 3 is an odd  number\n",
      " 4 is an even number\n",
      " 5 is an odd  number\n"
     ]
    }
   ],
   "source": [
    "for i in range(-5, 6):\n",
    "    if i % 2 != 0:\n",
    "        if i >= 0:\n",
    "            print(' ' + str(i) + ' is an odd  number')\n",
    "        else:\n",
    "            print(str(i) + ' is an odd  number')\n",
    "    else:\n",
    "        if i >= 0:\n",
    "            print(' ' + str(i) + ' is an even number')\n",
    "        else:\n",
    "            print(str(i) + ' is an even number')\n"
   ]
  },
  {
   "cell_type": "code",
   "execution_count": 42,
   "metadata": {},
   "outputs": [],
   "source": [
    "def power(x,y):\n",
    "    answer = x**y\n",
    "    display(Math('%g^{%g} = %g'%(x,y,answer)))"
   ]
  },
  {
   "cell_type": "code",
   "execution_count": 43,
   "metadata": {},
   "outputs": [],
   "source": [
    "def fraction(x, y):\n",
    "    answer = x/y\n",
    "    display(Math('\\\\frac{%g}{%g} = %g' % (x, y, answer)))\n"
   ]
  },
  {
   "cell_type": "code",
   "execution_count": 61,
   "metadata": {},
   "outputs": [],
   "source": [
    "def chooseFun():\n",
    "    x = float(input('Pick X value: '))\n",
    "    y = float(input('Pick Y value: '))\n",
    "    display(Math(\n",
    "        '\\\\text{Press \"1\" to compute } %g^{%g}\\\\text{ or \"2\" to compute } \\\\frac{%g}{%g}' % (x, y, x, y)))\n",
    "    choise = input(' ')\n",
    "    if choise == '1':\n",
    "        power(x, y)\n",
    "    elif choise == '2':\n",
    "        fraction(x, y)\n",
    "    else:\n",
    "        print('Invalid selection')\n"
   ]
  },
  {
   "cell_type": "code",
   "execution_count": 62,
   "metadata": {},
   "outputs": [
    {
     "data": {
      "text/latex": [
       "$\\displaystyle \\text{Press \"1\" to compute } 10.3^{4.5}\\text{ or \"2\" to compute } \\frac{10.3}{4.5}$"
      ],
      "text/plain": [
       "<IPython.core.display.Math object>"
      ]
     },
     "metadata": {},
     "output_type": "display_data"
    },
    {
     "data": {
      "text/latex": [
       "$\\displaystyle \\frac{10.3}{4.5} = 2.28889$"
      ],
      "text/plain": [
       "<IPython.core.display.Math object>"
      ]
     },
     "metadata": {},
     "output_type": "display_data"
    }
   ],
   "source": [
    "chooseFun()"
   ]
  },
  {
   "cell_type": "code",
   "execution_count": 86,
   "metadata": {},
   "outputs": [],
   "source": [
    "from numpy import random\n",
    "\n",
    "\n",
    "def guessTheNumber():\n",
    "    randomInt = random.randint(1, 101)\n",
    "    guessInt = int(input('Guess a number between 1 and 100'))\n",
    "    while guessInt != randomInt:\n",
    "        if guessInt > randomInt:\n",
    "            print('Guess LOWER')\n",
    "        elif guessInt < randomInt:\n",
    "            print('Guess HIGHER')\n",
    "\n",
    "        guessInt = int(input('Pick new one'))\n",
    "\n",
    "    print('Got it! The random integer was ' + str(randomInt))\n"
   ]
  },
  {
   "cell_type": "code",
   "execution_count": 87,
   "metadata": {},
   "outputs": [
    {
     "name": "stdout",
     "output_type": "stream",
     "text": [
      "Guess LOWER\n",
      "Guess HIGHER\n",
      "Guess HIGHER\n",
      "Guess HIGHER\n",
      "Guess HIGHER\n",
      "Guess HIGHER\n",
      "Guess HIGHER\n",
      "Guess HIGHER\n",
      "Guess HIGHER\n",
      "Guess HIGHER\n",
      "Guess HIGHER\n",
      "Guess HIGHER\n",
      "Guess HIGHER\n",
      "Guess LOWER\n",
      "Guess LOWER\n",
      "Guess LOWER\n",
      "Got it! The random integer was 28\n"
     ]
    }
   ],
   "source": [
    "guessTheNumber()"
   ]
  },
  {
   "cell_type": "code",
   "execution_count": null,
   "metadata": {},
   "outputs": [],
   "source": []
  }
 ],
 "metadata": {
  "kernelspec": {
   "display_name": "base",
   "language": "python",
   "name": "python3"
  },
  "language_info": {
   "codemirror_mode": {
    "name": "ipython",
    "version": 3
   },
   "file_extension": ".py",
   "mimetype": "text/x-python",
   "name": "python",
   "nbconvert_exporter": "python",
   "pygments_lexer": "ipython3",
   "version": "3.9.16"
  },
  "orig_nbformat": 4
 },
 "nbformat": 4,
 "nbformat_minor": 2
}
