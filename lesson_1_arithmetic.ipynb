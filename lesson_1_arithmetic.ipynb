{
 "cells": [
  {
   "cell_type": "code",
   "execution_count": 15,
   "metadata": {},
   "outputs": [],
   "source": [
    "x = 7\n",
    "y = -2\n",
    "z = 5\n"
   ]
  },
  {
   "cell_type": "code",
   "execution_count": 16,
   "metadata": {},
   "outputs": [
    {
     "ename": "NameError",
     "evalue": "name 'Math' is not defined",
     "output_type": "error",
     "traceback": [
      "\u001b[1;31m---------------------------------------------------------------------------\u001b[0m",
      "\u001b[1;31mNameError\u001b[0m                                 Traceback (most recent call last)",
      "Cell \u001b[1;32mIn[16], line 1\u001b[0m\n\u001b[1;32m----> 1\u001b[0m Math(\u001b[39m'\u001b[39m\u001b[39m3x(4+y) = 42\u001b[39m\u001b[39m'\u001b[39m)\n",
      "\u001b[1;31mNameError\u001b[0m: name 'Math' is not defined"
     ]
    }
   ],
   "source": [
    "Math('3x(4+y) = 42')\n"
   ]
  },
  {
   "cell_type": "code",
   "execution_count": null,
   "metadata": {},
   "outputs": [],
   "source": [
    "Math('3 \\\\times %g(4+%g) = %g' % (x, y, 42))\n"
   ]
  },
  {
   "cell_type": "code",
   "execution_count": null,
   "metadata": {},
   "outputs": [],
   "source": [
    "Math('-y-\\\\frac {(x+3)}{z} = 0')\n"
   ]
  },
  {
   "cell_type": "code",
   "execution_count": null,
   "metadata": {},
   "outputs": [],
   "source": [
    "Math('-%g-\\\\frac {(%g+3)}{%g} = %g' % (y, x, z, 0))\n"
   ]
  },
  {
   "cell_type": "code",
   "execution_count": null,
   "metadata": {},
   "outputs": [],
   "source": [
    "x = 5\n",
    "y = 5.1\n"
   ]
  },
  {
   "cell_type": "code",
   "execution_count": null,
   "metadata": {},
   "outputs": [],
   "source": [
    "Math('x^{3/4} \\\\times 4^y = 3933.09')\n"
   ]
  },
  {
   "cell_type": "code",
   "execution_count": null,
   "metadata": {},
   "outputs": [],
   "source": [
    "Math('\\\\frac{3^3}{x^y} = 0.00735558')\n"
   ]
  },
  {
   "cell_type": "code",
   "execution_count": null,
   "metadata": {},
   "outputs": [],
   "source": [
    "Math('10^{x-4} = 10')\n"
   ]
  },
  {
   "cell_type": "code",
   "execution_count": null,
   "metadata": {},
   "outputs": [],
   "source": [
    "for i in range(0, 10):\n",
    "    print('2 to the power of %g is %g' % (i, 2**i))\n"
   ]
  },
  {
   "cell_type": "code",
   "execution_count": null,
   "metadata": {},
   "outputs": [],
   "source": [
    "for i in range(0, 4):\n",
    "    for j in range(0, 5):\n",
    "        if i > 0 and j > 0:\n",
    "            x = i**(-j)\n",
    "            display(Math('%g^{-%g} = %g' % (i, j, x)))\n"
   ]
  },
  {
   "cell_type": "code",
   "execution_count": null,
   "metadata": {},
   "outputs": [],
   "source": [
    "numbers = [-4, 6-1, 43, -18, 2, 0]\n",
    "\n",
    "for i in numbers:\n",
    "    if i > 2 or i < -5:\n",
    "        print('Absolute value of %g is %g' % (i, abs(i)))\n",
    "    else:\n",
    "        print('%g was not tested' % i)\n"
   ]
  },
  {
   "cell_type": "code",
   "execution_count": null,
   "metadata": {},
   "outputs": [],
   "source": [
    "for i in range(-5, 6):\n",
    "    if i % 2 != 0:\n",
    "        if i >= 0:\n",
    "            print(' ' + str(i) + ' is an odd  number')\n",
    "        else:\n",
    "            print(str(i) + ' is an odd  number')\n",
    "    else:\n",
    "        if i >= 0:\n",
    "            print(' ' + str(i) + ' is an even number')\n",
    "        else:\n",
    "            print(str(i) + ' is an even number')\n"
   ]
  },
  {
   "cell_type": "code",
   "execution_count": null,
   "metadata": {},
   "outputs": [],
   "source": [
    "def power(x,y):\n",
    "    answer = x**y\n",
    "    display(Math('%g^{%g} = %g'%(x,y,answer)))"
   ]
  },
  {
   "cell_type": "code",
   "execution_count": null,
   "metadata": {},
   "outputs": [],
   "source": [
    "def fraction(x, y):\n",
    "    answer = x/y\n",
    "    display(Math('\\\\frac{%g}{%g} = %g' % (x, y, answer)))\n"
   ]
  },
  {
   "cell_type": "code",
   "execution_count": null,
   "metadata": {},
   "outputs": [],
   "source": [
    "def chooseFun():\n",
    "    x = float(input('Pick X value: '))\n",
    "    y = float(input('Pick Y value: '))\n",
    "    display(Math(\n",
    "        '\\\\text{Press \"1\" to compute } %g^{%g}\\\\text{ or \"2\" to compute } \\\\frac{%g}{%g}' % (x, y, x, y)))\n",
    "    choise = input(' ')\n",
    "    if choise == '1':\n",
    "        power(x, y)\n",
    "    elif choise == '2':\n",
    "        fraction(x, y)\n",
    "    else:\n",
    "        print('Invalid selection')\n"
   ]
  },
  {
   "cell_type": "code",
   "execution_count": null,
   "metadata": {},
   "outputs": [],
   "source": [
    "chooseFun()"
   ]
  },
  {
   "cell_type": "code",
   "execution_count": null,
   "metadata": {},
   "outputs": [],
   "source": [
    "from numpy import random\n",
    "\n",
    "\n",
    "def guessTheNumber():\n",
    "    randomInt = random.randint(1, 101)\n",
    "    guessInt = int(input('Guess a number between 1 and 100'))\n",
    "    while guessInt != randomInt:\n",
    "        if guessInt > randomInt:\n",
    "            print('Guess LOWER')\n",
    "        elif guessInt < randomInt:\n",
    "            print('Guess HIGHER')\n",
    "\n",
    "        guessInt = int(input('Pick new one'))\n",
    "\n",
    "    print('Got it! The random integer was ' + str(randomInt))\n"
   ]
  },
  {
   "cell_type": "code",
   "execution_count": null,
   "metadata": {},
   "outputs": [],
   "source": [
    "guessTheNumber()"
   ]
  },
  {
   "cell_type": "code",
   "execution_count": null,
   "metadata": {},
   "outputs": [],
   "source": [
    "import sympy as sym\n",
    "from IPython.display import Math\n",
    "sym.init_printing()"
   ]
  },
  {
   "cell_type": "code",
   "execution_count": null,
   "metadata": {},
   "outputs": [
    {
     "data": {
      "image/png": "[encoded data removed]",
      "text/latex": [
       "$\\displaystyle x y^{2}$"
      ],
      "text/plain": [
       "   2\n",
       "x⋅y "
      ]
     },
     "metadata": {},
     "output_type": "display_data"
    },
    {
     "data": {
      "image/png": "[encoded data removed]",
      "text/latex": [
       "$\\displaystyle 2 \\sqrt{x}$"
      ],
      "text/plain": [
       "2⋅√x"
      ]
     },
     "metadata": {},
     "output_type": "display_data"
    },
    {
     "data": {
      "image/png": "[encoded data removed]",
      "text/latex": [
       "$\\displaystyle x$"
      ],
      "text/plain": [
       "x"
      ]
     },
     "metadata": {},
     "output_type": "display_data"
    }
   ],
   "source": [
    "x,y = sym.symbols('x,y')\n",
    "display(x*y**2)\n",
    "display(sym.sqrt(4*x))\n",
    "display(sym.sqrt(x)*sym.sqrt(x))\n"
   ]
  },
  {
   "cell_type": "code",
   "execution_count": null,
   "metadata": {},
   "outputs": [
    {
     "data": {
      "text/latex": [
       "$\\displaystyle 4x+5y-8z = 17$"
      ],
      "text/plain": [
       "<IPython.core.display.Math object>"
      ]
     },
     "metadata": {},
     "output_type": "display_data"
    },
    {
     "data": {
      "text/latex": [
       "$\\displaystyle \\sin{(2\\pi ft + 0)}$"
      ],
      "text/plain": [
       "<IPython.core.display.Math object>"
      ]
     },
     "metadata": {},
     "output_type": "display_data"
    },
    {
     "data": {
      "text/latex": [
       "$\\displaystyle e = mc^2$"
      ],
      "text/plain": [
       "<IPython.core.display.Math object>"
      ]
     },
     "metadata": {},
     "output_type": "display_data"
    },
    {
     "data": {
      "text/latex": [
       "$\\displaystyle \\frac{4+5x^2}{(1+x)(1-x)}$"
      ],
      "text/plain": [
       "<IPython.core.display.Math object>"
      ]
     },
     "metadata": {},
     "output_type": "display_data"
    }
   ],
   "source": [
    "x,y,z = sym.symbols('x,y,z')\n",
    "display(Math('4x+5y-8z = 17'))\n",
    "display(Math('\\\\sin{(2\\\\pi ft + 0)}'))\n",
    "display(Math('e = mc^2'))\n",
    "display(Math('\\\\frac{4+5x^2}{(1+x)(1-x)}'))\n"
   ]
  },
  {
   "cell_type": "code",
   "execution_count": null,
   "metadata": {},
   "outputs": [
    {
     "data": {
      "text/latex": [
       "$\\displaystyle \\text{With } x = -2: x^2 + 4 => -2^2 + 4 = 8 $"
      ],
      "text/plain": [
       "<IPython.core.display.Math object>"
      ]
     },
     "metadata": {},
     "output_type": "display_data"
    },
    {
     "data": {
      "text/latex": [
       "$\\displaystyle \\text{With } x = -1: x^2 + 4 => -1^2 + 4 = 5 $"
      ],
      "text/plain": [
       "<IPython.core.display.Math object>"
      ]
     },
     "metadata": {},
     "output_type": "display_data"
    },
    {
     "data": {
      "text/latex": [
       "$\\displaystyle \\text{With } x = 0: x^2 + 4 => 0^2 + 4 = 4 $"
      ],
      "text/plain": [
       "<IPython.core.display.Math object>"
      ]
     },
     "metadata": {},
     "output_type": "display_data"
    },
    {
     "data": {
      "text/latex": [
       "$\\displaystyle \\text{With } x = 1: x^2 + 4 => 1^2 + 4 = 5 $"
      ],
      "text/plain": [
       "<IPython.core.display.Math object>"
      ]
     },
     "metadata": {},
     "output_type": "display_data"
    },
    {
     "data": {
      "text/latex": [
       "$\\displaystyle \\text{With } x = 2: x^2 + 4 => 2^2 + 4 = 8 $"
      ],
      "text/plain": [
       "<IPython.core.display.Math object>"
      ]
     },
     "metadata": {},
     "output_type": "display_data"
    }
   ],
   "source": [
    "for i in range(-2, 3):\n",
    "    display(\n",
    "        Math('\\\\text{With } x = %g: x^2 + 4 => %g^2 + 4 = %g ' % (i, i, (i**2+4))))\n"
   ]
  },
  {
   "cell_type": "code",
   "execution_count": null,
   "metadata": {},
   "outputs": [
    {
     "name": "stdout",
     "output_type": "stream",
     "text": [
      "List element 0 is 3 and is of type int\n",
      "List element 1 is ['3', '4', '5'] and is of type list\n",
      "List element 2 is 5.5 and is of type float\n",
      "List element 3 is [4, 5, 6] and is of type list\n"
     ]
    }
   ],
   "source": [
    "listOfList = [3,['3','4','5'],5.5,[4,5,6]]\n",
    "for i, item in enumerate(listOfList):\n",
    "    print(f'List element {i} is {item} and is of type {str(type(item))[8:-2]}')"
   ]
  },
  {
   "cell_type": "code",
   "execution_count": null,
   "metadata": {},
   "outputs": [],
   "source": []
  }
 ],
 "metadata": {
  "kernelspec": {
   "display_name": "base",
   "language": "python",
   "name": "python3"
  },
  "language_info": {
   "codemirror_mode": {
    "name": "ipython",
    "version": 3
   },
   "file_extension": ".py",
   "mimetype": "text/x-python",
   "name": "python",
   "nbconvert_exporter": "python",
   "pygments_lexer": "ipython3",
   "version": "3.9.16"
  },
  "orig_nbformat": 4
 },
 "nbformat": 4,
 "nbformat_minor": 2
}
